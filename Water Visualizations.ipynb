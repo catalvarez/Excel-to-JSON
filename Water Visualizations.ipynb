{
 "cells": [
  {
   "cell_type": "code",
   "execution_count": 1,
   "metadata": {
    "collapsed": true
   },
   "outputs": [],
   "source": [
    "import xlrd\n",
    "import json"
   ]
  },
  {
   "cell_type": "markdown",
   "metadata": {
    "collapsed": true
   },
   "source": [
    "First Graphic: Conversion of historical data to a JSON file for pie charts"
   ]
  },
  {
   "cell_type": "code",
   "execution_count": 11,
   "metadata": {
    "collapsed": true
   },
   "outputs": [],
   "source": [
    "# open and import reservoir data\n",
    "res_wb = xlrd.open_workbook('historical.xlsx')\n",
    "sheet = res_wb.sheet_by_index(1)\n",
    "\n",
    "# lists to hold dictionaries\n",
    "historicaldata = []\n",
    "datevalues = []\n",
    "lakevalues = []\n",
    "# single dimension values\n",
    "dates = sheet.row_values(0)\n",
    "PDSI = sheet.row_values(21)\n",
    "lakes = sheet.col_values(0)\n",
    "lakekeys = [u'date',u'PDSI']\n",
    "lakekeys.extend(lakes[1:19])\n",
    "percentkeys = [u'name',u'percent']\n",
    "\n",
    "# each loop is for one date\n",
    "for i in range(4,len(dates)) : \n",
    "    # convert to clean percent values\n",
    "    rawpercents = sheet.col_values(i)[1:-2]\n",
    "    percentfull = [ round(x*100,1) for x in rawpercents ]\n",
    "    percentempty = [ round(100-x,1) for x in percentfull ]\n",
    "    datevalues = [dates[i],PDSI[i]]\n",
    "    #each loop is for one lake\n",
    "    for j in range(19):        \n",
    "        fillvalues1 = [u'full',percentfull[j]]\n",
    "        fillvalues2 = [u'empty',percentempty[j]]\n",
    "        templist = []\n",
    "        templist.append(dict(zip(percentkeys,fillvalues1)))\n",
    "        templist.append(dict(zip(percentkeys,fillvalues2)))\n",
    "        datevalues.append(templist)    \n",
    "\n",
    "    historicaldata.append(dict(zip(lakekeys,datevalues)))\n",
    "\n",
    "# Write to file\n",
    "with open('historical_data.json', 'w') as f:\n",
    "    json.dump(historicaldata,f,indent=2)"
   ]
  },
  {
   "cell_type": "markdown",
   "metadata": {},
   "source": [
    "Second Graphic: Conversion of model risk data to JSON for risk at each PDSI"
   ]
  },
  {
   "cell_type": "code",
   "execution_count": 37,
   "metadata": {},
   "outputs": [],
   "source": [
    "# open and import reservoir data\n",
    "res_wb = xlrd.open_workbook('model_predictions.xlsx')\n",
    "sheet = res_wb.sheet_by_index(1)\n",
    "\n",
    "# lists to hold dictionaries\n",
    "predictiondata = []\n",
    "PDSIvalues = []\n",
    "# single dimension values\n",
    "rawPDSI = sheet.row_values(0)\n",
    "PDSI = [ round(x,1) for x in rawPDSI[1:] ]\n",
    "lakes = sheet.col_values(0)\n",
    "keys = [u'PDSI']\n",
    "keys.extend(lakes[2:])\n",
    "\n",
    "# each loop is for one PDSI\n",
    "for i in range(len(PDSI)):\n",
    "    # convert to clean percent values\n",
    "    rawpercents = sheet.col_values(i+1)[2:]\n",
    "    percentrisk = [ round(x*100,1) for x in rawpercents ]\n",
    "    PDSIvalues = [PDSI[i]]\n",
    "    PDSIvalues.extend(percentrisk)\n",
    "    predictiondata.append(dict(zip(keys,PDSIvalues)))\n",
    "\n",
    "# Write to file\n",
    "with open('risk.json', 'w') as f:\n",
    "    json.dump(predictiondata,f,indent=2)"
   ]
  },
  {
   "cell_type": "markdown",
   "metadata": {},
   "source": [
    "Test Code"
   ]
  },
  {
   "cell_type": "code",
   "execution_count": 11,
   "metadata": {
    "collapsed": true
   },
   "outputs": [],
   "source": [
    "# open and import reservoir data\n",
    "res_wb = xlrd.open_workbook('historical.xlsx')\n",
    "sheet = res_wb.sheet_by_index(1)\n",
    "\n",
    "# lists to hold dictionaries\n",
    "historicaldata = []\n",
    "datevalues = {}\n",
    "lakevalues = []\n",
    "# single dimension values\n",
    "dates = sheet.row_values(0)\n",
    "PDSI = sheet.row_values(21)\n",
    "lakes = sheet.col_values(0)\n",
    "\n",
    "# each loop is for one date\n",
    "for i in range(4,len(dates)):\n",
    "    datevalues[\"date\"] = dates[i]\n",
    "    datevalues[\"PDSI\"] = PDSI[i]\n",
    "    # convert to clean percent values\n",
    "    rawpercents = sheet.col_values(i)[1:-2]\n",
    "    percentfull = [ round(x*100,1) for x in rawpercents ]\n",
    "    percentempty = [ round(100-x,1) for x in percentfull ]\n",
    "    \n",
    "    #each loop is for one lake\n",
    "    for j in range(19):\n",
    "        datevalues[lakes[j+1]]=[{\"name\":\"full\",\"percent\":percentfull[j]},{\"name\":\"empty\",\"percent\":percentempty[j]}]        \n",
    "    \n",
    "    historicaldata.append(datevalues)\n",
    "\n",
    "# Write to file\n",
    "with open('historical_data.json', 'w') as f:\n",
    "    json.dump(historicaldata,f,indent=2)"
   ]
  },
  {
   "cell_type": "code",
   "execution_count": null,
   "metadata": {
    "collapsed": true
   },
   "outputs": [],
   "source": []
  }
 ],
 "metadata": {
  "kernelspec": {
   "display_name": "Python 2",
   "language": "python",
   "name": "python2"
  },
  "language_info": {
   "codemirror_mode": {
    "name": "ipython",
    "version": 2
   },
   "file_extension": ".py",
   "mimetype": "text/x-python",
   "name": "python",
   "nbconvert_exporter": "python",
   "pygments_lexer": "ipython2",
   "version": "2.7.13"
  }
 },
 "nbformat": 4,
 "nbformat_minor": 1
}
